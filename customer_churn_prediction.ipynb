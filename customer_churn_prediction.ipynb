# Import necessary libraries
import pandas as pd
import numpy as np
import matplotlib.pyplot as plt
import seaborn as sns
from sklearn.model_selection import train_test_split
from sklearn.preprocessing import StandardScaler
from sklearn.ensemble import RandomForestClassifier
from sklearn.metrics import accuracy_score, precision_score, recall_score, roc_auc_score, confusion_matrix
import joblib

# Load the dataset
data = pd.read_csv('customer_churn_data.csv')

# Data Preprocessing
# Handle missing values and categorical variables, perform feature engineering, and exploratory data analysis (EDA)

# Data Visualization
# Create visualizations to gain insights from the dataset
# Example:
sns.countplot(x='Churn', data=data)
plt.show()

# Feature Selection
# Identify and select relevant features for the model

# Data Splitting
X = data.drop('Churn', axis=1)
y = data['Churn']
X_train, X_test, y_train, y_test = train_test_split(X, y, test_size=0.2, random_state=42)

# Feature Scaling
scaler = StandardScaler()
X_train = scaler.fit_transform(X_train)
X_test = scaler.transform(X_test)

# Model Training
model = RandomForestClassifier(random_state=42)
model.fit(X_train, y_train)

# Model Evaluation
y_pred = model.predict(X_test)
accuracy = accuracy_score(y_test, y_pred)
precision = precision_score(y_test, y_pred)
recall = recall_score(y_test, y_pred)
roc_auc = roc_auc_score(y_test, model.predict_proba(X_test)[:, 1])
conf_matrix = confusion_matrix(y_test, y_pred)

print(f'Accuracy: {accuracy}')
print(f'Precision: {precision}')
print(f'Recall: {recall}')
print(f'ROC-AUC: {roc_auc}')
print(f'Confusion Matrix:\n{conf_matrix}')

# Save the model to a file
joblib.dump(model, 'customer_churn_model.pkl')
